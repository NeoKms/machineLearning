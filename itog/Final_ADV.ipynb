{
 "cells": [
  {
   "cell_type": "markdown",
   "metadata": {},
   "source": [
    "Рассмотрим основные моменты не вошедшие в предыдущие лекции"
   ]
  },
  {
   "cell_type": "markdown",
   "metadata": {},
   "source": [
    "Обновим и подключим библиотеки:"
   ]
  },
  {
   "cell_type": "code",
   "execution_count": 96,
   "metadata": {},
   "outputs": [
    {
     "name": "stdout",
     "output_type": "stream",
     "text": [
      "Requirement already up-to-date: pip in c:\\users\\xiaomi\\appdata\\local\\programs\\python\\python36\\lib\\site-packages (20.1.1)\n",
      "Requirement already up-to-date: scikit-learn==0.23.0 in c:\\users\\xiaomi\\appdata\\local\\programs\\python\\python36\\lib\\site-packages (0.23.0)\n",
      "Requirement already satisfied, skipping upgrade: numpy>=1.13.3 in c:\\users\\xiaomi\\appdata\\local\\programs\\python\\python36\\lib\\site-packages (from scikit-learn==0.23.0) (1.16.2)\n",
      "Requirement already satisfied, skipping upgrade: joblib>=0.11 in c:\\users\\xiaomi\\appdata\\local\\programs\\python\\python36\\lib\\site-packages (from scikit-learn==0.23.0) (0.14.1)\n",
      "Requirement already satisfied, skipping upgrade: scipy>=0.19.1 in c:\\users\\xiaomi\\appdata\\local\\programs\\python\\python36\\lib\\site-packages (from scikit-learn==0.23.0) (1.2.1)\n",
      "Requirement already satisfied, skipping upgrade: threadpoolctl>=2.0.0 in c:\\users\\xiaomi\\appdata\\local\\programs\\python\\python36\\lib\\site-packages (from scikit-learn==0.23.0) (2.1.0)\n"
     ]
    }
   ],
   "source": [
    "!pip install --upgrade pip\n",
    "!pip install --upgrade scikit-learn==0.23.0\n",
    "import numpy as np\n",
    "from sklearn.decomposition import PCA\n",
    "from sklearn import datasets\n",
    "import matplotlib\n",
    "import matplotlib.pyplot as plt\n",
    "%matplotlib inline\n",
    "#Импортируем датасет MNIST.\n",
    "from keras.datasets import mnist\n",
    "from sklearn.model_selection import train_test_split\n",
    "(X_train_orig, y_train_orig), (X_pred, y_pred) = mnist.load_data()"
   ]
  },
  {
   "cell_type": "markdown",
   "metadata": {},
   "source": [
    "Объем тренировочного набора данных:"
   ]
  },
  {
   "cell_type": "code",
   "execution_count": 97,
   "metadata": {},
   "outputs": [
    {
     "name": "stdout",
     "output_type": "stream",
     "text": [
      "60000\n",
      "Посмотрим, что из себя представляет, например, нулевой объект\n",
      "Отклик нулевого объекта из тренировочного набора: 5\n"
     ]
    },
    {
     "data": {
      "image/png": "[encoded data removed]",
      "text/plain": [
       "<Figure size 432x288 with 1 Axes>"
      ]
     },
     "metadata": {
      "needs_background": "light"
     },
     "output_type": "display_data"
    }
   ],
   "source": [
    "print(len(X_train_orig))\n",
    "print('Посмотрим, что из себя представляет, например, нулевой объект')\n",
    "plt.title(\"Нулевой объект из тренировочного набора:\")\n",
    "plt.imshow(X_train_orig[0], cmap=\"gray\")\n",
    "print('Отклик нулевого объекта из тренировочного набора:',y_train_orig[0])"
   ]
  },
  {
   "cell_type": "code",
   "execution_count": 98,
   "metadata": {},
   "outputs": [
    {
     "name": "stdout",
     "output_type": "stream",
     "text": [
      "тип массива X_all: <class 'numpy.ndarray'>\n",
      "размер X_all =  (60000, 784)\n",
      "размер 1 элемента X_all =  (784,)\n"
     ]
    }
   ],
   "source": [
    "dim = 784 # 28*28 \n",
    "X_all=X_train_orig.reshape(len(X_train_orig), dim)\n",
    "print('тип массива X_all: '+str(type(X_all)))\n",
    "print('размер X_all = ', X_all.shape)\n",
    "print('размер 1 элемента X_all = ',X_all[0].shape)"
   ]
  },
  {
   "cell_type": "code",
   "execution_count": 99,
   "metadata": {},
   "outputs": [],
   "source": [
    "pca = PCA(n_components=784, svd_solver='full')\n",
    "X_full = pca.fit(X_all).transform(X_all)"
   ]
  },
  {
   "cell_type": "code",
   "execution_count": 100,
   "metadata": {},
   "outputs": [
    {
     "name": "stdout",
     "output_type": "stream",
     "text": [
      "37\n"
     ]
    },
    {
     "data": {
      "text/plain": [
       "[<matplotlib.lines.Line2D at 0x2393c570a58>]"
      ]
     },
     "execution_count": 100,
     "metadata": {},
     "output_type": "execute_result"
    },
    {
     "data": {
      "image/png": "[encoded data removed]",
      "text/plain": [
       "<Figure size 432x288 with 1 Axes>"
      ]
     },
     "metadata": {
      "needs_background": "light"
     },
     "output_type": "display_data"
    }
   ],
   "source": [
    "explained_variance = np.cumsum(pca.explained_variance_ratio_)\n",
    "for i in range(len(explained_variance)):\n",
    "    if explained_variance[i]>0.77:\n",
    "        print(i+1)\n",
    "        break\n",
    "\n",
    "#print(explained_variance)\n",
    "plt.plot(np.arange(784), explained_variance, ls = '-')"
   ]
  },
  {
   "cell_type": "code",
   "execution_count": 101,
   "metadata": {},
   "outputs": [
    {
     "name": "stdout",
     "output_type": "stream",
     "text": [
      "(60000, 784)\n"
     ]
    }
   ],
   "source": [
    "print(X_all.shape)"
   ]
  },
  {
   "cell_type": "code",
   "execution_count": 102,
   "metadata": {},
   "outputs": [],
   "source": [
    "pca = PCA(n_components=37, svd_solver='full')\n",
    "X_full = pca.fit(X_all).transform(X_all)"
   ]
  },
  {
   "cell_type": "code",
   "execution_count": 103,
   "metadata": {},
   "outputs": [
    {
     "name": "stdout",
     "output_type": "stream",
     "text": [
      "тип массива X_train: <class 'numpy.ndarray'>\n",
      "размер X_train =  (42000, 37)\n",
      "размер 1 элемента X_train =  (37,)\n"
     ]
    },
    {
     "data": {
      "text/plain": [
       "2.03"
      ]
     },
     "execution_count": 103,
     "metadata": {},
     "output_type": "execute_result"
    }
   ],
   "source": [
    "#Для разделения данных рекомендуем использовать функцию train_test_split из библиотеки sklearn. Следующий код разделяет исходные данные в отношении 70/30.\n",
    "X_train, X_test, y_train, y_test = train_test_split(X_full, y_train_orig, test_size=0.3, random_state=48)\n",
    "print('тип массива X_train: '+str(type(X_train)))\n",
    "print('размер X_train = ', X_train.shape)\n",
    "print('размер 1 элемента X_train = ',X_train[0].shape)\n",
    "dim = 37\n",
    "X_train = X_train.reshape(len(X_train), dim)\n",
    "X_test = X_test.reshape(len(X_test), dim)\n",
    "import pandas as pd\n",
    "df = pd.DataFrame(X_train)\n",
    "round(df[0].mean(),2)"
   ]
  },
  {
   "cell_type": "markdown",
   "metadata": {},
   "source": [
    "### Рассмотрим пример для демонстрации алгоритма One-vs-All"
   ]
  },
  {
   "cell_type": "markdown",
   "metadata": {},
   "source": [
    "Подключаем библиотеку для обучения многоклассового классификатора методом One-vs-All и дерево принятия решений"
   ]
  },
  {
   "cell_type": "code",
   "execution_count": 104,
   "metadata": {},
   "outputs": [],
   "source": [
    "from sklearn.multiclass import OneVsRestClassifier\n",
    "from sklearn.tree import DecisionTreeClassifier\n",
    "from sklearn.ensemble import RandomForestClassifier"
   ]
  },
  {
   "cell_type": "markdown",
   "metadata": {},
   "source": [
    "Обучаем модель:"
   ]
  },
  {
   "cell_type": "code",
   "execution_count": 105,
   "metadata": {},
   "outputs": [],
   "source": [
    "forest = RandomForestClassifier(n_estimators=10, #количество деревьев\n",
    "                             criterion='gini', #критерий разделения\n",
    "                              min_samples_leaf=10, #минимальное число объектов в листе\n",
    "                              max_depth=20, #максимальное число листьев\n",
    "                              random_state=48)\n",
    "clf_f_RandomForest = OneVsRestClassifier(forest).fit(X_train, y_train)"
   ]
  },
  {
   "cell_type": "code",
   "execution_count": 106,
   "metadata": {},
   "outputs": [],
   "source": [
    "y_pred = clf_f_RandomForest.predict(X_test)"
   ]
  },
  {
   "cell_type": "markdown",
   "metadata": {},
   "source": [
    "Выполняем оценку:"
   ]
  },
  {
   "cell_type": "code",
   "execution_count": 107,
   "metadata": {},
   "outputs": [
    {
     "data": {
      "text/plain": [
       "1663"
      ]
     },
     "execution_count": 107,
     "metadata": {},
     "output_type": "execute_result"
    }
   ],
   "source": [
    "from sklearn.metrics import confusion_matrix\n",
    "confusion_matrix(y_test, y_pred)[0][0]"
   ]
  },
  {
   "cell_type": "code",
   "execution_count": 108,
   "metadata": {},
   "outputs": [
    {
     "name": "stdout",
     "output_type": "stream",
     "text": [
      "(18000,)\n",
      "(18000,)\n",
      "1663\n"
     ]
    }
   ],
   "source": [
    "print(y_pred.shape)\n",
    "print(y_test.shape)\n",
    "col = 0\n",
    "for i in range(len(y_pred)):\n",
    "    if (y_pred[i]==0 and y_test[i]==0):\n",
    "        col+=1\n",
    "print(col)"
   ]
  },
  {
   "cell_type": "code",
   "execution_count": 109,
   "metadata": {},
   "outputs": [],
   "source": [
    "from sklearn.linear_model import LogisticRegression \n",
    "lr=LogisticRegression(solver='lbfgs', random_state=48)\n",
    "clf_f_LogisticRegression = OneVsRestClassifier(lr).fit(X_train, y_train)"
   ]
  },
  {
   "cell_type": "code",
   "execution_count": 112,
   "metadata": {},
   "outputs": [],
   "source": [
    "y_pred = clf_f_LogisticRegression.predict(X_test)"
   ]
  },
  {
   "cell_type": "code",
   "execution_count": 113,
   "metadata": {},
   "outputs": [
    {
     "name": "stdout",
     "output_type": "stream",
     "text": [
      "(18000,)\n",
      "(18000,)\n",
      "1659\n"
     ]
    },
    {
     "data": {
      "text/plain": [
       "1659"
      ]
     },
     "execution_count": 113,
     "metadata": {},
     "output_type": "execute_result"
    }
   ],
   "source": [
    "print(y_pred.shape)\n",
    "print(y_test.shape)\n",
    "col = 0\n",
    "for i in range(len(y_pred)):\n",
    "    if (y_pred[i]==0 and y_test[i]==0):\n",
    "        col+=1\n",
    "print(col)\n",
    "confusion_matrix(y_test, y_pred)[0][0]"
   ]
  },
  {
   "cell_type": "code",
   "execution_count": 114,
   "metadata": {},
   "outputs": [],
   "source": [
    "from sklearn.tree import DecisionTreeClassifier\n",
    "tree = DecisionTreeClassifier(criterion='gini', #критерий разделения\n",
    "                              min_samples_leaf=10, #минимальное число объектов в листе\n",
    "                              max_depth=20, #максимальное число листьев\n",
    "                              random_state=48)\n",
    "clf_t_DecisionTree = OneVsRestClassifier(tree).fit(X_train, y_train)"
   ]
  },
  {
   "cell_type": "code",
   "execution_count": 115,
   "metadata": {},
   "outputs": [],
   "source": [
    "y_pred = clf_t_DecisionTree.predict(X_test)"
   ]
  },
  {
   "cell_type": "code",
   "execution_count": 116,
   "metadata": {},
   "outputs": [
    {
     "name": "stdout",
     "output_type": "stream",
     "text": [
      "(18000,)\n",
      "(18000,)\n",
      "1643\n"
     ]
    },
    {
     "data": {
      "text/plain": [
       "1643"
      ]
     },
     "execution_count": 116,
     "metadata": {},
     "output_type": "execute_result"
    }
   ],
   "source": [
    "print(y_pred.shape)\n",
    "print(y_test.shape)\n",
    "col = 0\n",
    "for i in range(len(y_pred)):\n",
    "    if (y_pred[i]==6 and y_test[i]==6):\n",
    "        col+=1\n",
    "print(col)\n",
    "confusion_matrix(y_test, y_pred)[6][6]"
   ]
  },
  {
   "cell_type": "code",
   "execution_count": 135,
   "metadata": {},
   "outputs": [
    {
     "name": "stdout",
     "output_type": "stream",
     "text": [
      "тип массива X: <class 'numpy.ndarray'>\n",
      "размер X =  (30, 784)\n",
      "размер 1 элемента X =  (784,)\n",
      "тип массива Y: <class 'numpy.ndarray'>\n",
      "размер Y =  (30,)\n",
      "7\n"
     ]
    }
   ],
   "source": [
    "X = np.genfromtxt('pred_for_task.csv', delimiter=',')\n",
    "X = X[1:,1:]\n",
    "Y = []\n",
    "for i in (X):\n",
    "    Y.append(int(i[0]))\n",
    "X = X[:,1:]\n",
    "print('тип массива X: '+str(type(X)))\n",
    "print('размер X = ', X.shape)\n",
    "print('размер 1 элемента X = ',X[0].shape)\n",
    "Y = np.array(Y)\n",
    "print('тип массива Y: '+str(type(Y)))\n",
    "print('размер Y = ', Y.shape)\n",
    "print(Y[0])"
   ]
  },
  {
   "cell_type": "code",
   "execution_count": 136,
   "metadata": {},
   "outputs": [
    {
     "name": "stdout",
     "output_type": "stream",
     "text": [
      "(30, 37)\n",
      "[-332.27116927  747.7987162   -42.84481899 -311.17391175 -495.36113948\n",
      "  242.37242808  392.90608285  470.74564406 -399.24506564 -186.12987923\n",
      "  194.8842629  -110.45756655   33.54104537 -220.14478939 -138.02575943\n",
      "  -80.07930673  290.47753859  255.32601407   72.27633949   57.2055858\n",
      "  -53.12277745  245.09141886   51.53471741  -82.40275714 -128.1883443\n",
      "  -40.84813765  135.63238964  -28.59494853   18.84910485 -212.6092718\n",
      "   78.70325336 -295.86849666   82.11693874 -153.99134608  -24.25577716\n",
      "  174.3373878   -92.79926798]\n"
     ]
    }
   ],
   "source": [
    "new_X = pca.transform(X)\n",
    "#print(X_new)\n",
    "print(new_X.shape)\n",
    "print(new_X[0])"
   ]
  },
  {
   "cell_type": "code",
   "execution_count": 137,
   "metadata": {},
   "outputs": [],
   "source": [
    "y1_pred=clf_f_RandomForest.predict(new_X)\n",
    "y2_pred=clf_f_LogisticRegression.predict(new_X)\n",
    "y3_pred=clf_t_DecisionTree.predict(new_X)"
   ]
  },
  {
   "cell_type": "code",
   "execution_count": 154,
   "metadata": {},
   "outputs": [
    {
     "name": "stdout",
     "output_type": "stream",
     "text": [
      "(30,)\n",
      "(30,)\n",
      "(30,)\n",
      "1\n",
      "9\n",
      "0\n",
      "0.995\n",
      "0.742\n",
      "0.722\n"
     ]
    },
    {
     "name": "stderr",
     "output_type": "stream",
     "text": [
      "c:\\users\\xiaomi\\appdata\\local\\programs\\python\\python36\\lib\\site-packages\\sklearn\\multiclass.py:382: RuntimeWarning: invalid value encountered in true_divide\n",
      "  Y /= np.sum(Y, axis=1)[:, np.newaxis]\n"
     ]
    }
   ],
   "source": [
    "print(y1_pred.shape)\n",
    "print(y2_pred.shape)\n",
    "print(y3_pred.shape)\n",
    "print(y1_pred[2])#это те классы, которые были найдены - подставь их во вторые []\n",
    "print(y2_pred[20])\n",
    "print(y3_pred[25])\n",
    "print(round(clf_f_RandomForest.predict_proba(new_X)[2][1],3))#в первых [] пишется номер файла (учет ведется с 0)\n",
    "print(round(clf_f_LogisticRegression.predict_proba(new_X)[20][9],3))#так что файл 1 это [0]\n",
    "print(round(clf_t_DecisionTree.predict_proba(new_X)[25][0],3))"
   ]
  },
  {
   "cell_type": "code",
   "execution_count": null,
   "metadata": {},
   "outputs": [],
   "source": []
  }
 ],
 "metadata": {
  "kernelspec": {
   "display_name": "Python 3",
   "language": "python",
   "name": "python3"
  },
  "language_info": {
   "codemirror_mode": {
    "name": "ipython",
    "version": 3
   },
   "file_extension": ".py",
   "mimetype": "text/x-python",
   "name": "python",
   "nbconvert_exporter": "python",
   "pygments_lexer": "ipython3",
   "version": "3.6.6"
  }
 },
 "nbformat": 4,
 "nbformat_minor": 2
}
